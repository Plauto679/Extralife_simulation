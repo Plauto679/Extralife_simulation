{
 "cells": [
  {
   "cell_type": "markdown",
   "id": "1e6151c4",
   "metadata": {},
   "source": [
    "### Extralife 'Market the price of your life & the value of your dead'"
   ]
  },
  {
   "cell_type": "markdown",
   "id": "30f62d4a",
   "metadata": {},
   "source": [
    "**Objetive**\n",
    "\n",
    "*We want a system that emulates the behaviour of an insurance company that keeps track of the most important metrics relevant to the system and KPIs that show the wellbeing of the system*\n",
    "\n",
    "The Metrics for us to track are the following:\n",
    "\n",
    "    -Size of the Risk-pool\n",
    "    -Size of assured Sum to be payed\n",
    "    -Amount of clients (Minted NFTs)\n",
    "    -Price of the native coin\n",
    "    -Income model\n",
    "        -Minting income\n",
    "        -Trade income\n",
    "        -Fund income\n",
    "        \n",
    "The KPIs for us to track are the following:\n",
    "\n",
    "    -Acidity ratio (Liabilities / Size of the Risk Pool)"
   ]
  },
  {
   "cell_type": "markdown",
   "id": "a22c60b6",
   "metadata": {},
   "source": [
    "### 0. Dependencies"
   ]
  },
  {
   "cell_type": "code",
   "execution_count": 1,
   "id": "388448ff",
   "metadata": {},
   "outputs": [],
   "source": [
    "import pandas as pd\n",
    "import numpy as np\n",
    "from random import normalvariate\n",
    "import plotly.express as px\n",
    "\n",
    "from cadCAD.configuration.utils import config_sim\n",
    "from cadCAD.configuration import Experiment\n",
    "from cadCAD.engine import ExecutionContext, Executor"
   ]
  },
  {
   "cell_type": "markdown",
   "id": "19a9a8ac",
   "metadata": {},
   "source": [
    "### 1. State Variables"
   ]
  },
  {
   "cell_type": "code",
   "execution_count": 2,
   "id": "f071a8ae",
   "metadata": {},
   "outputs": [],
   "source": [
    "initial_state = {\n",
    "    'risk_pool': 250000,\n",
    "    'minted_nfts': 100,\n",
    "    'size_of_assured_sum' : 1000 #Considering that each client payed 1 unit and receives 10 as assured sum\n",
    "    #'native_coin_price'\n",
    "}"
   ]
  },
  {
   "cell_type": "markdown",
   "id": "aec7ce1f",
   "metadata": {},
   "source": [
    "### 2. System Parameters"
   ]
  },
  {
   "cell_type": "markdown",
   "id": "3e1a73a9",
   "metadata": {},
   "source": [
    "**The system parameters we need to define are:**\n",
    "\n",
    "* Adoption Rate: `bonding_rate` with value `.2`\n",
    "* Death Rate: `death_rate` with value `.1`\n",
    "* Native Coin Fluctuation Rate `coin_fluctuation` with value `.05`"
   ]
  },
  {
   "cell_type": "markdown",
   "id": "8d73ebd3",
   "metadata": {},
   "source": [
    "#### 1 Time stamp = 1 Month"
   ]
  },
  {
   "cell_type": "code",
   "execution_count": 17,
   "id": "a3080abe",
   "metadata": {},
   "outputs": [],
   "source": [
    "system_params = {\n",
    "    'bonding_rate': [.001],\n",
    "    'death_rate': [.001],\n",
    "    #'coin_fluctuation': .05, # This parameter expands the model\n",
    "    }"
   ]
  },
  {
   "cell_type": "markdown",
   "id": "778bb1e8",
   "metadata": {},
   "source": [
    "### 3. Policy Functions (Signals) (Bahaviours)"
   ]
  },
  {
   "cell_type": "code",
   "execution_count": 18,
   "id": "78f99366",
   "metadata": {},
   "outputs": [],
   "source": [
    "def new_clients (params, substep, state_history, previous_state):\n",
    "    \n",
    "    # Parameters & variables\n",
    "    \n",
    "    w = previous_state['minted_nfts']\n",
    "    value = w * params['bonding_rate']#Randomness needs to be added here\n",
    "    \n",
    "    # Logic # We limit the amount of new clients to be realistic \n",
    "    \n",
    "    #if new >= 100000:\n",
    "    #    value = 100000\n",
    "   # else:\n",
    "     #   value = new\n",
    "\n",
    "    # Output\n",
    "    return {'new_clients': value}\n",
    "\n"
   ]
  },
  {
   "cell_type": "code",
   "execution_count": 19,
   "id": "f9cfaff6",
   "metadata": {},
   "outputs": [],
   "source": [
    "def dead_clients (params, substep, state_history, previous_state):\n",
    "    \n",
    "    # Parameters & variables\n",
    "    \n",
    "    v = previous_state['minted_nfts']\n",
    "    value = v * params['death_rate']#Randomness needed \n",
    "    \n",
    "    # Output\n",
    "    return {'remove_clients': value}"
   ]
  },
  {
   "cell_type": "markdown",
   "id": "111d330c",
   "metadata": {},
   "source": [
    "***Considerations\n",
    "#New premiums is a substep (THE SIGNAL IS THE AMOUNT OF NEW CLIENTS)\n",
    "#New assured sum debt is a substep (THE SIGNAL IS THE AMOUNT OF NEW CLIENTS) "
   ]
  },
  {
   "cell_type": "markdown",
   "id": "85049db9",
   "metadata": {},
   "source": [
    "### 4. State Update Functions"
   ]
  },
  {
   "cell_type": "code",
   "execution_count": 20,
   "id": "9bf5f41c",
   "metadata": {},
   "outputs": [],
   "source": [
    "def s_risk_pool (params, substep, state_history, previous_state, policy_input):\n",
    "    \n",
    "    # Parameters & variables\n",
    "    current_size = previous_state['risk_pool'] + policy_input['new_clients']\n",
    "    \n",
    "    # Logic\n",
    "    \n",
    "    # Output\n",
    "    return ('risk_pool', current_size)"
   ]
  },
  {
   "cell_type": "code",
   "execution_count": 21,
   "id": "a2e7abff",
   "metadata": {},
   "outputs": [],
   "source": [
    "def s_minted_nfts (params, substep, state_history, previous_state, policy_input):\n",
    "    \n",
    "    # Parameters & variables\n",
    "    new_nfts = policy_input['new_clients'] + policy_input['new_clients']\n",
    "    \n",
    "    # Logic\n",
    "    \n",
    "    # Output\n",
    "    return ('minted_nfts', new_nfts)\n"
   ]
  },
  {
   "cell_type": "code",
   "execution_count": 22,
   "id": "004ae939",
   "metadata": {},
   "outputs": [],
   "source": [
    "def s_size_of_assured_sum (params, substep, state_history, previous_state, policy_input):\n",
    "    \n",
    "    # Parameters & variables\n",
    "    current_size = previous_state['risk_pool']\n",
    "    current_assured_size = current_size*10 + (policy_input['new_clients'])*10\n",
    "    \n",
    "    # Logic\n",
    "    #new_co2 = max(current_co2 + co2_change, 0)\n",
    "    \n",
    "    # Output\n",
    "    return ('size_of_assured_sum', current_assured_size)\n"
   ]
  },
  {
   "cell_type": "markdown",
   "id": "31cd551a",
   "metadata": {},
   "source": [
    "### 5. Partial State Update Blocks"
   ]
  },
  {
   "cell_type": "code",
   "execution_count": 23,
   "id": "8d903d0b",
   "metadata": {},
   "outputs": [],
   "source": [
    "partial_state_update_blocks = [\n",
    "    {\n",
    "        'policies': {\n",
    "            'new_clients': new_clients,\n",
    "            'dead_clients': dead_clients\n",
    "        },\n",
    "        'variables': {\n",
    "            'risk_pool' : s_risk_pool,\n",
    "            'minted_nfts' : s_minted_nfts,\n",
    "            'size_of_assured_sum' :  s_size_of_assured_sum\n",
    "            \n",
    "            #'added_risk': s_risk_pool,\n",
    "            #'added_minted_nfts': s_minted_nfts,\n",
    "            #'added_size_of_assured_sum' : s_size_of_assured_sum\n",
    "        }\n",
    "    }\n",
    "]"
   ]
  },
  {
   "cell_type": "markdown",
   "id": "988ac980",
   "metadata": {},
   "source": [
    "### 6. Configuration"
   ]
  },
  {
   "cell_type": "code",
   "execution_count": 24,
   "id": "1abc1be9",
   "metadata": {},
   "outputs": [],
   "source": [
    "MONTE_CARLO_RUNS = 1 #50 is a lot now\n",
    "SIMULATION_TIMESTEPS = 100\n",
    "\n",
    "sim_config = config_sim(\n",
    "    {\n",
    "        'N': MONTE_CARLO_RUNS,\n",
    "        'T': range(SIMULATION_TIMESTEPS),\n",
    "        'M': system_params,\n",
    "    }\n",
    ")\n",
    "\n",
    "from cadCAD import configs\n",
    "del configs[:] # Clear any prior configs\n",
    "\n",
    "experiment = Experiment()\n",
    "experiment.append_configs(\n",
    "    sim_configs=sim_config,\n",
    "    initial_state=initial_state,\n",
    "    partial_state_update_blocks=partial_state_update_blocks\n",
    ")"
   ]
  },
  {
   "cell_type": "markdown",
   "id": "10be9e33",
   "metadata": {},
   "source": [
    "### 7. Execution"
   ]
  },
  {
   "cell_type": "code",
   "execution_count": 25,
   "id": "c41ccb21",
   "metadata": {},
   "outputs": [
    {
     "name": "stdout",
     "output_type": "stream",
     "text": [
      "\n",
      "                  ___________    ____\n",
      "  ________ __ ___/ / ____/   |  / __ \\\n",
      " / ___/ __` / __  / /   / /| | / / / /\n",
      "/ /__/ /_/ / /_/ / /___/ ___ |/ /_/ /\n",
      "\\___/\\__,_/\\__,_/\\____/_/  |_/_____/\n",
      "by cadCAD\n",
      "\n",
      "Execution Mode: local_proc\n",
      "Configuration Count: 1\n",
      "Dimensions of the first simulation: (Timesteps, Params, Runs, Vars) = (100, 2, 1, 3)\n",
      "Execution Method: local_simulations\n",
      "SimIDs   : [0]\n",
      "SubsetIDs: [0]\n",
      "Ns       : [0]\n",
      "ExpIDs   : [0]\n",
      "Execution Mode: single_threaded\n",
      "Total execution time: 0.04s\n"
     ]
    }
   ],
   "source": [
    "exec_context = ExecutionContext()\n",
    "\n",
    "simulation = Executor(exec_context=exec_context, configs=configs)\n",
    "raw_result, tensor_field, sessions = simulation.execute()"
   ]
  },
  {
   "cell_type": "markdown",
   "id": "5222f11e",
   "metadata": {},
   "source": [
    "# 8. Simulation Output Preparation\n",
    "> The simulation results are returned as a list of Python dictionaries, which we then convert to a Pandas dataframe."
   ]
  },
  {
   "cell_type": "code",
   "execution_count": 26,
   "id": "a069547c",
   "metadata": {},
   "outputs": [],
   "source": [
    "simulation_result = pd.DataFrame(raw_result)"
   ]
  },
  {
   "cell_type": "code",
   "execution_count": 27,
   "id": "e369a6f4",
   "metadata": {},
   "outputs": [
    {
     "data": {
      "text/html": [
       "<div>\n",
       "<style scoped>\n",
       "    .dataframe tbody tr th:only-of-type {\n",
       "        vertical-align: middle;\n",
       "    }\n",
       "\n",
       "    .dataframe tbody tr th {\n",
       "        vertical-align: top;\n",
       "    }\n",
       "\n",
       "    .dataframe thead th {\n",
       "        text-align: right;\n",
       "    }\n",
       "</style>\n",
       "<table border=\"1\" class=\"dataframe\">\n",
       "  <thead>\n",
       "    <tr style=\"text-align: right;\">\n",
       "      <th></th>\n",
       "      <th>risk_pool</th>\n",
       "      <th>minted_nfts</th>\n",
       "      <th>size_of_assured_sum</th>\n",
       "      <th>simulation</th>\n",
       "      <th>subset</th>\n",
       "      <th>run</th>\n",
       "      <th>substep</th>\n",
       "      <th>timestep</th>\n",
       "    </tr>\n",
       "  </thead>\n",
       "  <tbody>\n",
       "    <tr>\n",
       "      <th>0</th>\n",
       "      <td>250000.0000</td>\n",
       "      <td>1.000000e+02</td>\n",
       "      <td>1.000000e+03</td>\n",
       "      <td>0</td>\n",
       "      <td>0</td>\n",
       "      <td>1</td>\n",
       "      <td>0</td>\n",
       "      <td>0</td>\n",
       "    </tr>\n",
       "    <tr>\n",
       "      <th>1</th>\n",
       "      <td>250000.1000</td>\n",
       "      <td>2.000000e-01</td>\n",
       "      <td>2.500001e+06</td>\n",
       "      <td>0</td>\n",
       "      <td>0</td>\n",
       "      <td>1</td>\n",
       "      <td>1</td>\n",
       "      <td>1</td>\n",
       "    </tr>\n",
       "    <tr>\n",
       "      <th>2</th>\n",
       "      <td>250000.1002</td>\n",
       "      <td>4.000000e-04</td>\n",
       "      <td>2.500001e+06</td>\n",
       "      <td>0</td>\n",
       "      <td>0</td>\n",
       "      <td>1</td>\n",
       "      <td>1</td>\n",
       "      <td>2</td>\n",
       "    </tr>\n",
       "    <tr>\n",
       "      <th>3</th>\n",
       "      <td>250000.1002</td>\n",
       "      <td>8.000000e-07</td>\n",
       "      <td>2.500001e+06</td>\n",
       "      <td>0</td>\n",
       "      <td>0</td>\n",
       "      <td>1</td>\n",
       "      <td>1</td>\n",
       "      <td>3</td>\n",
       "    </tr>\n",
       "    <tr>\n",
       "      <th>4</th>\n",
       "      <td>250000.1002</td>\n",
       "      <td>1.600000e-09</td>\n",
       "      <td>2.500001e+06</td>\n",
       "      <td>0</td>\n",
       "      <td>0</td>\n",
       "      <td>1</td>\n",
       "      <td>1</td>\n",
       "      <td>4</td>\n",
       "    </tr>\n",
       "    <tr>\n",
       "      <th>...</th>\n",
       "      <td>...</td>\n",
       "      <td>...</td>\n",
       "      <td>...</td>\n",
       "      <td>...</td>\n",
       "      <td>...</td>\n",
       "      <td>...</td>\n",
       "      <td>...</td>\n",
       "      <td>...</td>\n",
       "    </tr>\n",
       "    <tr>\n",
       "      <th>96</th>\n",
       "      <td>250000.1002</td>\n",
       "      <td>7.922816e-258</td>\n",
       "      <td>2.500001e+06</td>\n",
       "      <td>0</td>\n",
       "      <td>0</td>\n",
       "      <td>1</td>\n",
       "      <td>1</td>\n",
       "      <td>96</td>\n",
       "    </tr>\n",
       "    <tr>\n",
       "      <th>97</th>\n",
       "      <td>250000.1002</td>\n",
       "      <td>1.584563e-260</td>\n",
       "      <td>2.500001e+06</td>\n",
       "      <td>0</td>\n",
       "      <td>0</td>\n",
       "      <td>1</td>\n",
       "      <td>1</td>\n",
       "      <td>97</td>\n",
       "    </tr>\n",
       "    <tr>\n",
       "      <th>98</th>\n",
       "      <td>250000.1002</td>\n",
       "      <td>3.169127e-263</td>\n",
       "      <td>2.500001e+06</td>\n",
       "      <td>0</td>\n",
       "      <td>0</td>\n",
       "      <td>1</td>\n",
       "      <td>1</td>\n",
       "      <td>98</td>\n",
       "    </tr>\n",
       "    <tr>\n",
       "      <th>99</th>\n",
       "      <td>250000.1002</td>\n",
       "      <td>6.338253e-266</td>\n",
       "      <td>2.500001e+06</td>\n",
       "      <td>0</td>\n",
       "      <td>0</td>\n",
       "      <td>1</td>\n",
       "      <td>1</td>\n",
       "      <td>99</td>\n",
       "    </tr>\n",
       "    <tr>\n",
       "      <th>100</th>\n",
       "      <td>250000.1002</td>\n",
       "      <td>1.267651e-268</td>\n",
       "      <td>2.500001e+06</td>\n",
       "      <td>0</td>\n",
       "      <td>0</td>\n",
       "      <td>1</td>\n",
       "      <td>1</td>\n",
       "      <td>100</td>\n",
       "    </tr>\n",
       "  </tbody>\n",
       "</table>\n",
       "<p>101 rows × 8 columns</p>\n",
       "</div>"
      ],
      "text/plain": [
       "       risk_pool    minted_nfts  size_of_assured_sum  simulation  subset  run  \\\n",
       "0    250000.0000   1.000000e+02         1.000000e+03           0       0    1   \n",
       "1    250000.1000   2.000000e-01         2.500001e+06           0       0    1   \n",
       "2    250000.1002   4.000000e-04         2.500001e+06           0       0    1   \n",
       "3    250000.1002   8.000000e-07         2.500001e+06           0       0    1   \n",
       "4    250000.1002   1.600000e-09         2.500001e+06           0       0    1   \n",
       "..           ...            ...                  ...         ...     ...  ...   \n",
       "96   250000.1002  7.922816e-258         2.500001e+06           0       0    1   \n",
       "97   250000.1002  1.584563e-260         2.500001e+06           0       0    1   \n",
       "98   250000.1002  3.169127e-263         2.500001e+06           0       0    1   \n",
       "99   250000.1002  6.338253e-266         2.500001e+06           0       0    1   \n",
       "100  250000.1002  1.267651e-268         2.500001e+06           0       0    1   \n",
       "\n",
       "     substep  timestep  \n",
       "0          0         0  \n",
       "1          1         1  \n",
       "2          1         2  \n",
       "3          1         3  \n",
       "4          1         4  \n",
       "..       ...       ...  \n",
       "96         1        96  \n",
       "97         1        97  \n",
       "98         1        98  \n",
       "99         1        99  \n",
       "100        1       100  \n",
       "\n",
       "[101 rows x 8 columns]"
      ]
     },
     "execution_count": 27,
     "metadata": {},
     "output_type": "execute_result"
    }
   ],
   "source": [
    "simulation_result"
   ]
  },
  {
   "cell_type": "code",
   "execution_count": 28,
   "id": "b8e27913",
   "metadata": {},
   "outputs": [],
   "source": [
    "df = simulation_result.copy()\n",
    "df1 = df[df.simulation == 0]\n",
    "df2 = df1.loc[:,['timestep','risk_pool','minted_nfts','size_of_assured_sum']]"
   ]
  },
  {
   "cell_type": "code",
   "execution_count": 29,
   "id": "4c706e9d",
   "metadata": {},
   "outputs": [
    {
     "data": {
      "text/html": [
       "<div>\n",
       "<style scoped>\n",
       "    .dataframe tbody tr th:only-of-type {\n",
       "        vertical-align: middle;\n",
       "    }\n",
       "\n",
       "    .dataframe tbody tr th {\n",
       "        vertical-align: top;\n",
       "    }\n",
       "\n",
       "    .dataframe thead th {\n",
       "        text-align: right;\n",
       "    }\n",
       "</style>\n",
       "<table border=\"1\" class=\"dataframe\">\n",
       "  <thead>\n",
       "    <tr style=\"text-align: right;\">\n",
       "      <th></th>\n",
       "      <th>timestep</th>\n",
       "      <th>risk_pool</th>\n",
       "      <th>minted_nfts</th>\n",
       "      <th>size_of_assured_sum</th>\n",
       "    </tr>\n",
       "  </thead>\n",
       "  <tbody>\n",
       "    <tr>\n",
       "      <th>0</th>\n",
       "      <td>0</td>\n",
       "      <td>250000.0000</td>\n",
       "      <td>1.000000e+02</td>\n",
       "      <td>1.000000e+03</td>\n",
       "    </tr>\n",
       "    <tr>\n",
       "      <th>1</th>\n",
       "      <td>1</td>\n",
       "      <td>250000.1000</td>\n",
       "      <td>2.000000e-01</td>\n",
       "      <td>2.500001e+06</td>\n",
       "    </tr>\n",
       "    <tr>\n",
       "      <th>2</th>\n",
       "      <td>2</td>\n",
       "      <td>250000.1002</td>\n",
       "      <td>4.000000e-04</td>\n",
       "      <td>2.500001e+06</td>\n",
       "    </tr>\n",
       "    <tr>\n",
       "      <th>3</th>\n",
       "      <td>3</td>\n",
       "      <td>250000.1002</td>\n",
       "      <td>8.000000e-07</td>\n",
       "      <td>2.500001e+06</td>\n",
       "    </tr>\n",
       "    <tr>\n",
       "      <th>4</th>\n",
       "      <td>4</td>\n",
       "      <td>250000.1002</td>\n",
       "      <td>1.600000e-09</td>\n",
       "      <td>2.500001e+06</td>\n",
       "    </tr>\n",
       "    <tr>\n",
       "      <th>...</th>\n",
       "      <td>...</td>\n",
       "      <td>...</td>\n",
       "      <td>...</td>\n",
       "      <td>...</td>\n",
       "    </tr>\n",
       "    <tr>\n",
       "      <th>96</th>\n",
       "      <td>96</td>\n",
       "      <td>250000.1002</td>\n",
       "      <td>7.922816e-258</td>\n",
       "      <td>2.500001e+06</td>\n",
       "    </tr>\n",
       "    <tr>\n",
       "      <th>97</th>\n",
       "      <td>97</td>\n",
       "      <td>250000.1002</td>\n",
       "      <td>1.584563e-260</td>\n",
       "      <td>2.500001e+06</td>\n",
       "    </tr>\n",
       "    <tr>\n",
       "      <th>98</th>\n",
       "      <td>98</td>\n",
       "      <td>250000.1002</td>\n",
       "      <td>3.169127e-263</td>\n",
       "      <td>2.500001e+06</td>\n",
       "    </tr>\n",
       "    <tr>\n",
       "      <th>99</th>\n",
       "      <td>99</td>\n",
       "      <td>250000.1002</td>\n",
       "      <td>6.338253e-266</td>\n",
       "      <td>2.500001e+06</td>\n",
       "    </tr>\n",
       "    <tr>\n",
       "      <th>100</th>\n",
       "      <td>100</td>\n",
       "      <td>250000.1002</td>\n",
       "      <td>1.267651e-268</td>\n",
       "      <td>2.500001e+06</td>\n",
       "    </tr>\n",
       "  </tbody>\n",
       "</table>\n",
       "<p>101 rows × 4 columns</p>\n",
       "</div>"
      ],
      "text/plain": [
       "     timestep    risk_pool    minted_nfts  size_of_assured_sum\n",
       "0           0  250000.0000   1.000000e+02         1.000000e+03\n",
       "1           1  250000.1000   2.000000e-01         2.500001e+06\n",
       "2           2  250000.1002   4.000000e-04         2.500001e+06\n",
       "3           3  250000.1002   8.000000e-07         2.500001e+06\n",
       "4           4  250000.1002   1.600000e-09         2.500001e+06\n",
       "..        ...          ...            ...                  ...\n",
       "96         96  250000.1002  7.922816e-258         2.500001e+06\n",
       "97         97  250000.1002  1.584563e-260         2.500001e+06\n",
       "98         98  250000.1002  3.169127e-263         2.500001e+06\n",
       "99         99  250000.1002  6.338253e-266         2.500001e+06\n",
       "100       100  250000.1002  1.267651e-268         2.500001e+06\n",
       "\n",
       "[101 rows x 4 columns]"
      ]
     },
     "execution_count": 29,
     "metadata": {},
     "output_type": "execute_result"
    }
   ],
   "source": [
    "df2"
   ]
  },
  {
   "cell_type": "code",
   "execution_count": 30,
   "id": "9e13c82a",
   "metadata": {},
   "outputs": [
    {
     "data": {
      "application/vnd.plotly.v1+json": {
       "config": {
        "plotlyServerURL": "https://plot.ly"
       },
       "data": [
        {
         "hovertemplate": "variable=risk_pool<br>timestep=%{x}<br>value=%{y}<extra></extra>",
         "legendgroup": "risk_pool",
         "line": {
          "color": "#636efa",
          "dash": "solid"
         },
         "mode": "lines",
         "name": "risk_pool",
         "orientation": "v",
         "showlegend": true,
         "type": "scatter",
         "x": [
          0,
          1,
          2,
          3,
          4,
          5,
          6,
          7,
          8,
          9,
          10,
          11,
          12,
          13,
          14,
          15,
          16,
          17,
          18,
          19,
          20,
          21,
          22,
          23,
          24,
          25,
          26,
          27,
          28,
          29,
          30,
          31,
          32,
          33,
          34,
          35,
          36,
          37,
          38,
          39,
          40,
          41,
          42,
          43,
          44,
          45,
          46,
          47,
          48,
          49,
          50,
          51,
          52,
          53,
          54,
          55,
          56,
          57,
          58,
          59,
          60,
          61,
          62,
          63,
          64,
          65,
          66,
          67,
          68,
          69,
          70,
          71,
          72,
          73,
          74,
          75,
          76,
          77,
          78,
          79,
          80,
          81,
          82,
          83,
          84,
          85,
          86,
          87,
          88,
          89,
          90,
          91,
          92,
          93,
          94,
          95,
          96,
          97,
          98,
          99,
          100
         ],
         "xaxis": "x",
         "y": [
          250000,
          250000.1,
          250000.10020000002,
          250000.10020040002,
          250000.1002004008,
          250000.1002004008,
          250000.1002004008,
          250000.1002004008,
          250000.1002004008,
          250000.1002004008,
          250000.1002004008,
          250000.1002004008,
          250000.1002004008,
          250000.1002004008,
          250000.1002004008,
          250000.1002004008,
          250000.1002004008,
          250000.1002004008,
          250000.1002004008,
          250000.1002004008,
          250000.1002004008,
          250000.1002004008,
          250000.1002004008,
          250000.1002004008,
          250000.1002004008,
          250000.1002004008,
          250000.1002004008,
          250000.1002004008,
          250000.1002004008,
          250000.1002004008,
          250000.1002004008,
          250000.1002004008,
          250000.1002004008,
          250000.1002004008,
          250000.1002004008,
          250000.1002004008,
          250000.1002004008,
          250000.1002004008,
          250000.1002004008,
          250000.1002004008,
          250000.1002004008,
          250000.1002004008,
          250000.1002004008,
          250000.1002004008,
          250000.1002004008,
          250000.1002004008,
          250000.1002004008,
          250000.1002004008,
          250000.1002004008,
          250000.1002004008,
          250000.1002004008,
          250000.1002004008,
          250000.1002004008,
          250000.1002004008,
          250000.1002004008,
          250000.1002004008,
          250000.1002004008,
          250000.1002004008,
          250000.1002004008,
          250000.1002004008,
          250000.1002004008,
          250000.1002004008,
          250000.1002004008,
          250000.1002004008,
          250000.1002004008,
          250000.1002004008,
          250000.1002004008,
          250000.1002004008,
          250000.1002004008,
          250000.1002004008,
          250000.1002004008,
          250000.1002004008,
          250000.1002004008,
          250000.1002004008,
          250000.1002004008,
          250000.1002004008,
          250000.1002004008,
          250000.1002004008,
          250000.1002004008,
          250000.1002004008,
          250000.1002004008,
          250000.1002004008,
          250000.1002004008,
          250000.1002004008,
          250000.1002004008,
          250000.1002004008,
          250000.1002004008,
          250000.1002004008,
          250000.1002004008,
          250000.1002004008,
          250000.1002004008,
          250000.1002004008,
          250000.1002004008,
          250000.1002004008,
          250000.1002004008,
          250000.1002004008,
          250000.1002004008,
          250000.1002004008,
          250000.1002004008,
          250000.1002004008,
          250000.1002004008
         ],
         "yaxis": "y"
        },
        {
         "hovertemplate": "variable=minted_nfts<br>timestep=%{x}<br>value=%{y}<extra></extra>",
         "legendgroup": "minted_nfts",
         "line": {
          "color": "#EF553B",
          "dash": "solid"
         },
         "mode": "lines",
         "name": "minted_nfts",
         "orientation": "v",
         "showlegend": true,
         "type": "scatter",
         "x": [
          0,
          1,
          2,
          3,
          4,
          5,
          6,
          7,
          8,
          9,
          10,
          11,
          12,
          13,
          14,
          15,
          16,
          17,
          18,
          19,
          20,
          21,
          22,
          23,
          24,
          25,
          26,
          27,
          28,
          29,
          30,
          31,
          32,
          33,
          34,
          35,
          36,
          37,
          38,
          39,
          40,
          41,
          42,
          43,
          44,
          45,
          46,
          47,
          48,
          49,
          50,
          51,
          52,
          53,
          54,
          55,
          56,
          57,
          58,
          59,
          60,
          61,
          62,
          63,
          64,
          65,
          66,
          67,
          68,
          69,
          70,
          71,
          72,
          73,
          74,
          75,
          76,
          77,
          78,
          79,
          80,
          81,
          82,
          83,
          84,
          85,
          86,
          87,
          88,
          89,
          90,
          91,
          92,
          93,
          94,
          95,
          96,
          97,
          98,
          99,
          100
         ],
         "xaxis": "x",
         "y": [
          100,
          0.2,
          0.0004,
          8.000000000000001e-07,
          1.6000000000000003e-09,
          3.2000000000000005e-12,
          6.4000000000000014e-15,
          1.2800000000000003e-17,
          2.5600000000000007e-20,
          5.1200000000000014e-23,
          1.0240000000000003e-25,
          2.0480000000000006e-28,
          4.0960000000000015e-31,
          8.192000000000002e-34,
          1.6384000000000006e-36,
          3.276800000000001e-39,
          6.553600000000001e-42,
          1.3107200000000004e-44,
          2.621440000000001e-47,
          5.242880000000002e-50,
          1.0485760000000004e-52,
          2.0971520000000008e-55,
          4.194304000000002e-58,
          8.388608000000004e-61,
          1.6777216000000008e-63,
          3.3554432000000016e-66,
          6.710886400000004e-69,
          1.3421772800000008e-71,
          2.6843545600000015e-74,
          5.368709120000003e-77,
          1.0737418240000007e-79,
          2.1474836480000015e-82,
          4.294967296000003e-85,
          8.589934592000007e-88,
          1.7179869184000013e-90,
          3.435973836800003e-93,
          6.8719476736000054e-96,
          1.3743895347200011e-98,
          2.7487790694400024e-101,
          5.4975581388800046e-104,
          1.099511627776001e-106,
          2.199023255552002e-109,
          4.398046511104003e-112,
          8.796093022208007e-115,
          1.7592186044416016e-117,
          3.518437208883203e-120,
          7.036874417766407e-123,
          1.4073748835532814e-125,
          2.8147497671065627e-128,
          5.629499534213126e-131,
          1.1258999068426251e-133,
          2.25179981368525e-136,
          4.5035996273705e-139,
          9.007199254741e-142,
          1.8014398509482e-144,
          3.6028797018964004e-147,
          7.205759403792801e-150,
          1.4411518807585602e-152,
          2.8823037615171205e-155,
          5.764607523034241e-158,
          1.1529215046068483e-160,
          2.3058430092136968e-163,
          4.6116860184273936e-166,
          9.223372036854788e-169,
          1.8446744073709575e-171,
          3.689348814741915e-174,
          7.37869762948383e-177,
          1.475739525896766e-179,
          2.951479051793532e-182,
          5.902958103587064e-185,
          1.180591620717413e-187,
          2.361183241434826e-190,
          4.722366482869652e-193,
          9.444732965739303e-196,
          1.8889465931478607e-198,
          3.777893186295721e-201,
          7.555786372591443e-204,
          1.5111572745182885e-206,
          3.0223145490365773e-209,
          6.044629098073155e-212,
          1.208925819614631e-214,
          2.417851639229262e-217,
          4.835703278458524e-220,
          9.671406556917049e-223,
          1.9342813113834098e-225,
          3.8685626227668195e-228,
          7.737125245533639e-231,
          1.547425049106728e-233,
          3.094850098213456e-236,
          6.189700196426912e-239,
          1.2379400392853826e-241,
          2.475880078570765e-244,
          4.95176015714153e-247,
          9.903520314283059e-250,
          1.980704062856612e-252,
          3.9614081257132242e-255,
          7.922816251426449e-258,
          1.5845632502852898e-260,
          3.1691265005705797e-263,
          6.33825300114116e-266,
          1.267650600228232e-268
         ],
         "yaxis": "y"
        },
        {
         "hovertemplate": "variable=size_of_assured_sum<br>timestep=%{x}<br>value=%{y}<extra></extra>",
         "legendgroup": "size_of_assured_sum",
         "line": {
          "color": "#00cc96",
          "dash": "solid"
         },
         "mode": "lines",
         "name": "size_of_assured_sum",
         "orientation": "v",
         "showlegend": true,
         "type": "scatter",
         "x": [
          0,
          1,
          2,
          3,
          4,
          5,
          6,
          7,
          8,
          9,
          10,
          11,
          12,
          13,
          14,
          15,
          16,
          17,
          18,
          19,
          20,
          21,
          22,
          23,
          24,
          25,
          26,
          27,
          28,
          29,
          30,
          31,
          32,
          33,
          34,
          35,
          36,
          37,
          38,
          39,
          40,
          41,
          42,
          43,
          44,
          45,
          46,
          47,
          48,
          49,
          50,
          51,
          52,
          53,
          54,
          55,
          56,
          57,
          58,
          59,
          60,
          61,
          62,
          63,
          64,
          65,
          66,
          67,
          68,
          69,
          70,
          71,
          72,
          73,
          74,
          75,
          76,
          77,
          78,
          79,
          80,
          81,
          82,
          83,
          84,
          85,
          86,
          87,
          88,
          89,
          90,
          91,
          92,
          93,
          94,
          95,
          96,
          97,
          98,
          99,
          100
         ],
         "xaxis": "x",
         "y": [
          1000,
          2500001,
          2500001.002,
          2500001.0020040004,
          2500001.0020040083,
          2500001.002004008,
          2500001.002004008,
          2500001.002004008,
          2500001.002004008,
          2500001.002004008,
          2500001.002004008,
          2500001.002004008,
          2500001.002004008,
          2500001.002004008,
          2500001.002004008,
          2500001.002004008,
          2500001.002004008,
          2500001.002004008,
          2500001.002004008,
          2500001.002004008,
          2500001.002004008,
          2500001.002004008,
          2500001.002004008,
          2500001.002004008,
          2500001.002004008,
          2500001.002004008,
          2500001.002004008,
          2500001.002004008,
          2500001.002004008,
          2500001.002004008,
          2500001.002004008,
          2500001.002004008,
          2500001.002004008,
          2500001.002004008,
          2500001.002004008,
          2500001.002004008,
          2500001.002004008,
          2500001.002004008,
          2500001.002004008,
          2500001.002004008,
          2500001.002004008,
          2500001.002004008,
          2500001.002004008,
          2500001.002004008,
          2500001.002004008,
          2500001.002004008,
          2500001.002004008,
          2500001.002004008,
          2500001.002004008,
          2500001.002004008,
          2500001.002004008,
          2500001.002004008,
          2500001.002004008,
          2500001.002004008,
          2500001.002004008,
          2500001.002004008,
          2500001.002004008,
          2500001.002004008,
          2500001.002004008,
          2500001.002004008,
          2500001.002004008,
          2500001.002004008,
          2500001.002004008,
          2500001.002004008,
          2500001.002004008,
          2500001.002004008,
          2500001.002004008,
          2500001.002004008,
          2500001.002004008,
          2500001.002004008,
          2500001.002004008,
          2500001.002004008,
          2500001.002004008,
          2500001.002004008,
          2500001.002004008,
          2500001.002004008,
          2500001.002004008,
          2500001.002004008,
          2500001.002004008,
          2500001.002004008,
          2500001.002004008,
          2500001.002004008,
          2500001.002004008,
          2500001.002004008,
          2500001.002004008,
          2500001.002004008,
          2500001.002004008,
          2500001.002004008,
          2500001.002004008,
          2500001.002004008,
          2500001.002004008,
          2500001.002004008,
          2500001.002004008,
          2500001.002004008,
          2500001.002004008,
          2500001.002004008,
          2500001.002004008,
          2500001.002004008,
          2500001.002004008,
          2500001.002004008,
          2500001.002004008
         ],
         "yaxis": "y"
        }
       ],
       "layout": {
        "legend": {
         "title": {
          "text": "variable"
         },
         "tracegroupgap": 0
        },
        "template": {
         "data": {
          "bar": [
           {
            "error_x": {
             "color": "#2a3f5f"
            },
            "error_y": {
             "color": "#2a3f5f"
            },
            "marker": {
             "line": {
              "color": "#E5ECF6",
              "width": 0.5
             }
            },
            "type": "bar"
           }
          ],
          "barpolar": [
           {
            "marker": {
             "line": {
              "color": "#E5ECF6",
              "width": 0.5
             }
            },
            "type": "barpolar"
           }
          ],
          "carpet": [
           {
            "aaxis": {
             "endlinecolor": "#2a3f5f",
             "gridcolor": "white",
             "linecolor": "white",
             "minorgridcolor": "white",
             "startlinecolor": "#2a3f5f"
            },
            "baxis": {
             "endlinecolor": "#2a3f5f",
             "gridcolor": "white",
             "linecolor": "white",
             "minorgridcolor": "white",
             "startlinecolor": "#2a3f5f"
            },
            "type": "carpet"
           }
          ],
          "choropleth": [
           {
            "colorbar": {
             "outlinewidth": 0,
             "ticks": ""
            },
            "type": "choropleth"
           }
          ],
          "contour": [
           {
            "colorbar": {
             "outlinewidth": 0,
             "ticks": ""
            },
            "colorscale": [
             [
              0,
              "#0d0887"
             ],
             [
              0.1111111111111111,
              "#46039f"
             ],
             [
              0.2222222222222222,
              "#7201a8"
             ],
             [
              0.3333333333333333,
              "#9c179e"
             ],
             [
              0.4444444444444444,
              "#bd3786"
             ],
             [
              0.5555555555555556,
              "#d8576b"
             ],
             [
              0.6666666666666666,
              "#ed7953"
             ],
             [
              0.7777777777777778,
              "#fb9f3a"
             ],
             [
              0.8888888888888888,
              "#fdca26"
             ],
             [
              1,
              "#f0f921"
             ]
            ],
            "type": "contour"
           }
          ],
          "contourcarpet": [
           {
            "colorbar": {
             "outlinewidth": 0,
             "ticks": ""
            },
            "type": "contourcarpet"
           }
          ],
          "heatmap": [
           {
            "colorbar": {
             "outlinewidth": 0,
             "ticks": ""
            },
            "colorscale": [
             [
              0,
              "#0d0887"
             ],
             [
              0.1111111111111111,
              "#46039f"
             ],
             [
              0.2222222222222222,
              "#7201a8"
             ],
             [
              0.3333333333333333,
              "#9c179e"
             ],
             [
              0.4444444444444444,
              "#bd3786"
             ],
             [
              0.5555555555555556,
              "#d8576b"
             ],
             [
              0.6666666666666666,
              "#ed7953"
             ],
             [
              0.7777777777777778,
              "#fb9f3a"
             ],
             [
              0.8888888888888888,
              "#fdca26"
             ],
             [
              1,
              "#f0f921"
             ]
            ],
            "type": "heatmap"
           }
          ],
          "heatmapgl": [
           {
            "colorbar": {
             "outlinewidth": 0,
             "ticks": ""
            },
            "colorscale": [
             [
              0,
              "#0d0887"
             ],
             [
              0.1111111111111111,
              "#46039f"
             ],
             [
              0.2222222222222222,
              "#7201a8"
             ],
             [
              0.3333333333333333,
              "#9c179e"
             ],
             [
              0.4444444444444444,
              "#bd3786"
             ],
             [
              0.5555555555555556,
              "#d8576b"
             ],
             [
              0.6666666666666666,
              "#ed7953"
             ],
             [
              0.7777777777777778,
              "#fb9f3a"
             ],
             [
              0.8888888888888888,
              "#fdca26"
             ],
             [
              1,
              "#f0f921"
             ]
            ],
            "type": "heatmapgl"
           }
          ],
          "histogram": [
           {
            "marker": {
             "colorbar": {
              "outlinewidth": 0,
              "ticks": ""
             }
            },
            "type": "histogram"
           }
          ],
          "histogram2d": [
           {
            "colorbar": {
             "outlinewidth": 0,
             "ticks": ""
            },
            "colorscale": [
             [
              0,
              "#0d0887"
             ],
             [
              0.1111111111111111,
              "#46039f"
             ],
             [
              0.2222222222222222,
              "#7201a8"
             ],
             [
              0.3333333333333333,
              "#9c179e"
             ],
             [
              0.4444444444444444,
              "#bd3786"
             ],
             [
              0.5555555555555556,
              "#d8576b"
             ],
             [
              0.6666666666666666,
              "#ed7953"
             ],
             [
              0.7777777777777778,
              "#fb9f3a"
             ],
             [
              0.8888888888888888,
              "#fdca26"
             ],
             [
              1,
              "#f0f921"
             ]
            ],
            "type": "histogram2d"
           }
          ],
          "histogram2dcontour": [
           {
            "colorbar": {
             "outlinewidth": 0,
             "ticks": ""
            },
            "colorscale": [
             [
              0,
              "#0d0887"
             ],
             [
              0.1111111111111111,
              "#46039f"
             ],
             [
              0.2222222222222222,
              "#7201a8"
             ],
             [
              0.3333333333333333,
              "#9c179e"
             ],
             [
              0.4444444444444444,
              "#bd3786"
             ],
             [
              0.5555555555555556,
              "#d8576b"
             ],
             [
              0.6666666666666666,
              "#ed7953"
             ],
             [
              0.7777777777777778,
              "#fb9f3a"
             ],
             [
              0.8888888888888888,
              "#fdca26"
             ],
             [
              1,
              "#f0f921"
             ]
            ],
            "type": "histogram2dcontour"
           }
          ],
          "mesh3d": [
           {
            "colorbar": {
             "outlinewidth": 0,
             "ticks": ""
            },
            "type": "mesh3d"
           }
          ],
          "parcoords": [
           {
            "line": {
             "colorbar": {
              "outlinewidth": 0,
              "ticks": ""
             }
            },
            "type": "parcoords"
           }
          ],
          "pie": [
           {
            "automargin": true,
            "type": "pie"
           }
          ],
          "scatter": [
           {
            "marker": {
             "colorbar": {
              "outlinewidth": 0,
              "ticks": ""
             }
            },
            "type": "scatter"
           }
          ],
          "scatter3d": [
           {
            "line": {
             "colorbar": {
              "outlinewidth": 0,
              "ticks": ""
             }
            },
            "marker": {
             "colorbar": {
              "outlinewidth": 0,
              "ticks": ""
             }
            },
            "type": "scatter3d"
           }
          ],
          "scattercarpet": [
           {
            "marker": {
             "colorbar": {
              "outlinewidth": 0,
              "ticks": ""
             }
            },
            "type": "scattercarpet"
           }
          ],
          "scattergeo": [
           {
            "marker": {
             "colorbar": {
              "outlinewidth": 0,
              "ticks": ""
             }
            },
            "type": "scattergeo"
           }
          ],
          "scattergl": [
           {
            "marker": {
             "colorbar": {
              "outlinewidth": 0,
              "ticks": ""
             }
            },
            "type": "scattergl"
           }
          ],
          "scattermapbox": [
           {
            "marker": {
             "colorbar": {
              "outlinewidth": 0,
              "ticks": ""
             }
            },
            "type": "scattermapbox"
           }
          ],
          "scatterpolar": [
           {
            "marker": {
             "colorbar": {
              "outlinewidth": 0,
              "ticks": ""
             }
            },
            "type": "scatterpolar"
           }
          ],
          "scatterpolargl": [
           {
            "marker": {
             "colorbar": {
              "outlinewidth": 0,
              "ticks": ""
             }
            },
            "type": "scatterpolargl"
           }
          ],
          "scatterternary": [
           {
            "marker": {
             "colorbar": {
              "outlinewidth": 0,
              "ticks": ""
             }
            },
            "type": "scatterternary"
           }
          ],
          "surface": [
           {
            "colorbar": {
             "outlinewidth": 0,
             "ticks": ""
            },
            "colorscale": [
             [
              0,
              "#0d0887"
             ],
             [
              0.1111111111111111,
              "#46039f"
             ],
             [
              0.2222222222222222,
              "#7201a8"
             ],
             [
              0.3333333333333333,
              "#9c179e"
             ],
             [
              0.4444444444444444,
              "#bd3786"
             ],
             [
              0.5555555555555556,
              "#d8576b"
             ],
             [
              0.6666666666666666,
              "#ed7953"
             ],
             [
              0.7777777777777778,
              "#fb9f3a"
             ],
             [
              0.8888888888888888,
              "#fdca26"
             ],
             [
              1,
              "#f0f921"
             ]
            ],
            "type": "surface"
           }
          ],
          "table": [
           {
            "cells": {
             "fill": {
              "color": "#EBF0F8"
             },
             "line": {
              "color": "white"
             }
            },
            "header": {
             "fill": {
              "color": "#C8D4E3"
             },
             "line": {
              "color": "white"
             }
            },
            "type": "table"
           }
          ]
         },
         "layout": {
          "annotationdefaults": {
           "arrowcolor": "#2a3f5f",
           "arrowhead": 0,
           "arrowwidth": 1
          },
          "coloraxis": {
           "colorbar": {
            "outlinewidth": 0,
            "ticks": ""
           }
          },
          "colorscale": {
           "diverging": [
            [
             0,
             "#8e0152"
            ],
            [
             0.1,
             "#c51b7d"
            ],
            [
             0.2,
             "#de77ae"
            ],
            [
             0.3,
             "#f1b6da"
            ],
            [
             0.4,
             "#fde0ef"
            ],
            [
             0.5,
             "#f7f7f7"
            ],
            [
             0.6,
             "#e6f5d0"
            ],
            [
             0.7,
             "#b8e186"
            ],
            [
             0.8,
             "#7fbc41"
            ],
            [
             0.9,
             "#4d9221"
            ],
            [
             1,
             "#276419"
            ]
           ],
           "sequential": [
            [
             0,
             "#0d0887"
            ],
            [
             0.1111111111111111,
             "#46039f"
            ],
            [
             0.2222222222222222,
             "#7201a8"
            ],
            [
             0.3333333333333333,
             "#9c179e"
            ],
            [
             0.4444444444444444,
             "#bd3786"
            ],
            [
             0.5555555555555556,
             "#d8576b"
            ],
            [
             0.6666666666666666,
             "#ed7953"
            ],
            [
             0.7777777777777778,
             "#fb9f3a"
            ],
            [
             0.8888888888888888,
             "#fdca26"
            ],
            [
             1,
             "#f0f921"
            ]
           ],
           "sequentialminus": [
            [
             0,
             "#0d0887"
            ],
            [
             0.1111111111111111,
             "#46039f"
            ],
            [
             0.2222222222222222,
             "#7201a8"
            ],
            [
             0.3333333333333333,
             "#9c179e"
            ],
            [
             0.4444444444444444,
             "#bd3786"
            ],
            [
             0.5555555555555556,
             "#d8576b"
            ],
            [
             0.6666666666666666,
             "#ed7953"
            ],
            [
             0.7777777777777778,
             "#fb9f3a"
            ],
            [
             0.8888888888888888,
             "#fdca26"
            ],
            [
             1,
             "#f0f921"
            ]
           ]
          },
          "colorway": [
           "#636efa",
           "#EF553B",
           "#00cc96",
           "#ab63fa",
           "#FFA15A",
           "#19d3f3",
           "#FF6692",
           "#B6E880",
           "#FF97FF",
           "#FECB52"
          ],
          "font": {
           "color": "#2a3f5f"
          },
          "geo": {
           "bgcolor": "white",
           "lakecolor": "white",
           "landcolor": "#E5ECF6",
           "showlakes": true,
           "showland": true,
           "subunitcolor": "white"
          },
          "hoverlabel": {
           "align": "left"
          },
          "hovermode": "closest",
          "mapbox": {
           "style": "light"
          },
          "paper_bgcolor": "white",
          "plot_bgcolor": "#E5ECF6",
          "polar": {
           "angularaxis": {
            "gridcolor": "white",
            "linecolor": "white",
            "ticks": ""
           },
           "bgcolor": "#E5ECF6",
           "radialaxis": {
            "gridcolor": "white",
            "linecolor": "white",
            "ticks": ""
           }
          },
          "scene": {
           "xaxis": {
            "backgroundcolor": "#E5ECF6",
            "gridcolor": "white",
            "gridwidth": 2,
            "linecolor": "white",
            "showbackground": true,
            "ticks": "",
            "zerolinecolor": "white"
           },
           "yaxis": {
            "backgroundcolor": "#E5ECF6",
            "gridcolor": "white",
            "gridwidth": 2,
            "linecolor": "white",
            "showbackground": true,
            "ticks": "",
            "zerolinecolor": "white"
           },
           "zaxis": {
            "backgroundcolor": "#E5ECF6",
            "gridcolor": "white",
            "gridwidth": 2,
            "linecolor": "white",
            "showbackground": true,
            "ticks": "",
            "zerolinecolor": "white"
           }
          },
          "shapedefaults": {
           "line": {
            "color": "#2a3f5f"
           }
          },
          "ternary": {
           "aaxis": {
            "gridcolor": "white",
            "linecolor": "white",
            "ticks": ""
           },
           "baxis": {
            "gridcolor": "white",
            "linecolor": "white",
            "ticks": ""
           },
           "bgcolor": "#E5ECF6",
           "caxis": {
            "gridcolor": "white",
            "linecolor": "white",
            "ticks": ""
           }
          },
          "title": {
           "x": 0.05
          },
          "xaxis": {
           "automargin": true,
           "gridcolor": "white",
           "linecolor": "white",
           "ticks": "",
           "title": {
            "standoff": 15
           },
           "zerolinecolor": "white",
           "zerolinewidth": 2
          },
          "yaxis": {
           "automargin": true,
           "gridcolor": "white",
           "linecolor": "white",
           "ticks": "",
           "title": {
            "standoff": 15
           },
           "zerolinecolor": "white",
           "zerolinewidth": 2
          }
         }
        },
        "title": {
         "text": "Insurance Performance"
        },
        "xaxis": {
         "anchor": "y",
         "domain": [
          0,
          1
         ],
         "title": {
          "text": "timestep"
         }
        },
        "yaxis": {
         "anchor": "x",
         "domain": [
          0,
          1
         ],
         "title": {
          "text": "value"
         }
        }
       }
      },
      "text/html": [
       "<div>                            <div id=\"cfefbc15-8e52-4c29-b519-f13d4d790b2f\" class=\"plotly-graph-div\" style=\"height:525px; width:100%;\"></div>            <script type=\"text/javascript\">                require([\"plotly\"], function(Plotly) {                    window.PLOTLYENV=window.PLOTLYENV || {};                                    if (document.getElementById(\"cfefbc15-8e52-4c29-b519-f13d4d790b2f\")) {                    Plotly.newPlot(                        \"cfefbc15-8e52-4c29-b519-f13d4d790b2f\",                        [{\"hovertemplate\": \"variable=risk_pool<br>timestep=%{x}<br>value=%{y}<extra></extra>\", \"legendgroup\": \"risk_pool\", \"line\": {\"color\": \"#636efa\", \"dash\": \"solid\"}, \"mode\": \"lines\", \"name\": \"risk_pool\", \"orientation\": \"v\", \"showlegend\": true, \"type\": \"scatter\", \"x\": [0, 1, 2, 3, 4, 5, 6, 7, 8, 9, 10, 11, 12, 13, 14, 15, 16, 17, 18, 19, 20, 21, 22, 23, 24, 25, 26, 27, 28, 29, 30, 31, 32, 33, 34, 35, 36, 37, 38, 39, 40, 41, 42, 43, 44, 45, 46, 47, 48, 49, 50, 51, 52, 53, 54, 55, 56, 57, 58, 59, 60, 61, 62, 63, 64, 65, 66, 67, 68, 69, 70, 71, 72, 73, 74, 75, 76, 77, 78, 79, 80, 81, 82, 83, 84, 85, 86, 87, 88, 89, 90, 91, 92, 93, 94, 95, 96, 97, 98, 99, 100], \"xaxis\": \"x\", \"y\": [250000.0, 250000.1, 250000.10020000002, 250000.10020040002, 250000.1002004008, 250000.1002004008, 250000.1002004008, 250000.1002004008, 250000.1002004008, 250000.1002004008, 250000.1002004008, 250000.1002004008, 250000.1002004008, 250000.1002004008, 250000.1002004008, 250000.1002004008, 250000.1002004008, 250000.1002004008, 250000.1002004008, 250000.1002004008, 250000.1002004008, 250000.1002004008, 250000.1002004008, 250000.1002004008, 250000.1002004008, 250000.1002004008, 250000.1002004008, 250000.1002004008, 250000.1002004008, 250000.1002004008, 250000.1002004008, 250000.1002004008, 250000.1002004008, 250000.1002004008, 250000.1002004008, 250000.1002004008, 250000.1002004008, 250000.1002004008, 250000.1002004008, 250000.1002004008, 250000.1002004008, 250000.1002004008, 250000.1002004008, 250000.1002004008, 250000.1002004008, 250000.1002004008, 250000.1002004008, 250000.1002004008, 250000.1002004008, 250000.1002004008, 250000.1002004008, 250000.1002004008, 250000.1002004008, 250000.1002004008, 250000.1002004008, 250000.1002004008, 250000.1002004008, 250000.1002004008, 250000.1002004008, 250000.1002004008, 250000.1002004008, 250000.1002004008, 250000.1002004008, 250000.1002004008, 250000.1002004008, 250000.1002004008, 250000.1002004008, 250000.1002004008, 250000.1002004008, 250000.1002004008, 250000.1002004008, 250000.1002004008, 250000.1002004008, 250000.1002004008, 250000.1002004008, 250000.1002004008, 250000.1002004008, 250000.1002004008, 250000.1002004008, 250000.1002004008, 250000.1002004008, 250000.1002004008, 250000.1002004008, 250000.1002004008, 250000.1002004008, 250000.1002004008, 250000.1002004008, 250000.1002004008, 250000.1002004008, 250000.1002004008, 250000.1002004008, 250000.1002004008, 250000.1002004008, 250000.1002004008, 250000.1002004008, 250000.1002004008, 250000.1002004008, 250000.1002004008, 250000.1002004008, 250000.1002004008, 250000.1002004008], \"yaxis\": \"y\"}, {\"hovertemplate\": \"variable=minted_nfts<br>timestep=%{x}<br>value=%{y}<extra></extra>\", \"legendgroup\": \"minted_nfts\", \"line\": {\"color\": \"#EF553B\", \"dash\": \"solid\"}, \"mode\": \"lines\", \"name\": \"minted_nfts\", \"orientation\": \"v\", \"showlegend\": true, \"type\": \"scatter\", \"x\": [0, 1, 2, 3, 4, 5, 6, 7, 8, 9, 10, 11, 12, 13, 14, 15, 16, 17, 18, 19, 20, 21, 22, 23, 24, 25, 26, 27, 28, 29, 30, 31, 32, 33, 34, 35, 36, 37, 38, 39, 40, 41, 42, 43, 44, 45, 46, 47, 48, 49, 50, 51, 52, 53, 54, 55, 56, 57, 58, 59, 60, 61, 62, 63, 64, 65, 66, 67, 68, 69, 70, 71, 72, 73, 74, 75, 76, 77, 78, 79, 80, 81, 82, 83, 84, 85, 86, 87, 88, 89, 90, 91, 92, 93, 94, 95, 96, 97, 98, 99, 100], \"xaxis\": \"x\", \"y\": [100.0, 0.2, 0.0004, 8.000000000000001e-07, 1.6000000000000003e-09, 3.2000000000000005e-12, 6.4000000000000014e-15, 1.2800000000000003e-17, 2.5600000000000007e-20, 5.1200000000000014e-23, 1.0240000000000003e-25, 2.0480000000000006e-28, 4.0960000000000015e-31, 8.192000000000002e-34, 1.6384000000000006e-36, 3.276800000000001e-39, 6.553600000000001e-42, 1.3107200000000004e-44, 2.621440000000001e-47, 5.242880000000002e-50, 1.0485760000000004e-52, 2.0971520000000008e-55, 4.194304000000002e-58, 8.388608000000004e-61, 1.6777216000000008e-63, 3.3554432000000016e-66, 6.710886400000004e-69, 1.3421772800000008e-71, 2.6843545600000015e-74, 5.368709120000003e-77, 1.0737418240000007e-79, 2.1474836480000015e-82, 4.294967296000003e-85, 8.589934592000007e-88, 1.7179869184000013e-90, 3.435973836800003e-93, 6.8719476736000054e-96, 1.3743895347200011e-98, 2.7487790694400024e-101, 5.4975581388800046e-104, 1.099511627776001e-106, 2.199023255552002e-109, 4.398046511104003e-112, 8.796093022208007e-115, 1.7592186044416016e-117, 3.518437208883203e-120, 7.036874417766407e-123, 1.4073748835532814e-125, 2.8147497671065627e-128, 5.629499534213126e-131, 1.1258999068426251e-133, 2.25179981368525e-136, 4.5035996273705e-139, 9.007199254741e-142, 1.8014398509482e-144, 3.6028797018964004e-147, 7.205759403792801e-150, 1.4411518807585602e-152, 2.8823037615171205e-155, 5.764607523034241e-158, 1.1529215046068483e-160, 2.3058430092136968e-163, 4.6116860184273936e-166, 9.223372036854788e-169, 1.8446744073709575e-171, 3.689348814741915e-174, 7.37869762948383e-177, 1.475739525896766e-179, 2.951479051793532e-182, 5.902958103587064e-185, 1.180591620717413e-187, 2.361183241434826e-190, 4.722366482869652e-193, 9.444732965739303e-196, 1.8889465931478607e-198, 3.777893186295721e-201, 7.555786372591443e-204, 1.5111572745182885e-206, 3.0223145490365773e-209, 6.044629098073155e-212, 1.208925819614631e-214, 2.417851639229262e-217, 4.835703278458524e-220, 9.671406556917049e-223, 1.9342813113834098e-225, 3.8685626227668195e-228, 7.737125245533639e-231, 1.547425049106728e-233, 3.094850098213456e-236, 6.189700196426912e-239, 1.2379400392853826e-241, 2.475880078570765e-244, 4.95176015714153e-247, 9.903520314283059e-250, 1.980704062856612e-252, 3.9614081257132242e-255, 7.922816251426449e-258, 1.5845632502852898e-260, 3.1691265005705797e-263, 6.33825300114116e-266, 1.267650600228232e-268], \"yaxis\": \"y\"}, {\"hovertemplate\": \"variable=size_of_assured_sum<br>timestep=%{x}<br>value=%{y}<extra></extra>\", \"legendgroup\": \"size_of_assured_sum\", \"line\": {\"color\": \"#00cc96\", \"dash\": \"solid\"}, \"mode\": \"lines\", \"name\": \"size_of_assured_sum\", \"orientation\": \"v\", \"showlegend\": true, \"type\": \"scatter\", \"x\": [0, 1, 2, 3, 4, 5, 6, 7, 8, 9, 10, 11, 12, 13, 14, 15, 16, 17, 18, 19, 20, 21, 22, 23, 24, 25, 26, 27, 28, 29, 30, 31, 32, 33, 34, 35, 36, 37, 38, 39, 40, 41, 42, 43, 44, 45, 46, 47, 48, 49, 50, 51, 52, 53, 54, 55, 56, 57, 58, 59, 60, 61, 62, 63, 64, 65, 66, 67, 68, 69, 70, 71, 72, 73, 74, 75, 76, 77, 78, 79, 80, 81, 82, 83, 84, 85, 86, 87, 88, 89, 90, 91, 92, 93, 94, 95, 96, 97, 98, 99, 100], \"xaxis\": \"x\", \"y\": [1000.0, 2500001.0, 2500001.002, 2500001.0020040004, 2500001.0020040083, 2500001.002004008, 2500001.002004008, 2500001.002004008, 2500001.002004008, 2500001.002004008, 2500001.002004008, 2500001.002004008, 2500001.002004008, 2500001.002004008, 2500001.002004008, 2500001.002004008, 2500001.002004008, 2500001.002004008, 2500001.002004008, 2500001.002004008, 2500001.002004008, 2500001.002004008, 2500001.002004008, 2500001.002004008, 2500001.002004008, 2500001.002004008, 2500001.002004008, 2500001.002004008, 2500001.002004008, 2500001.002004008, 2500001.002004008, 2500001.002004008, 2500001.002004008, 2500001.002004008, 2500001.002004008, 2500001.002004008, 2500001.002004008, 2500001.002004008, 2500001.002004008, 2500001.002004008, 2500001.002004008, 2500001.002004008, 2500001.002004008, 2500001.002004008, 2500001.002004008, 2500001.002004008, 2500001.002004008, 2500001.002004008, 2500001.002004008, 2500001.002004008, 2500001.002004008, 2500001.002004008, 2500001.002004008, 2500001.002004008, 2500001.002004008, 2500001.002004008, 2500001.002004008, 2500001.002004008, 2500001.002004008, 2500001.002004008, 2500001.002004008, 2500001.002004008, 2500001.002004008, 2500001.002004008, 2500001.002004008, 2500001.002004008, 2500001.002004008, 2500001.002004008, 2500001.002004008, 2500001.002004008, 2500001.002004008, 2500001.002004008, 2500001.002004008, 2500001.002004008, 2500001.002004008, 2500001.002004008, 2500001.002004008, 2500001.002004008, 2500001.002004008, 2500001.002004008, 2500001.002004008, 2500001.002004008, 2500001.002004008, 2500001.002004008, 2500001.002004008, 2500001.002004008, 2500001.002004008, 2500001.002004008, 2500001.002004008, 2500001.002004008, 2500001.002004008, 2500001.002004008, 2500001.002004008, 2500001.002004008, 2500001.002004008, 2500001.002004008, 2500001.002004008, 2500001.002004008, 2500001.002004008, 2500001.002004008, 2500001.002004008], \"yaxis\": \"y\"}],                        {\"legend\": {\"title\": {\"text\": \"variable\"}, \"tracegroupgap\": 0}, \"template\": {\"data\": {\"bar\": [{\"error_x\": {\"color\": \"#2a3f5f\"}, \"error_y\": {\"color\": \"#2a3f5f\"}, \"marker\": {\"line\": {\"color\": \"#E5ECF6\", \"width\": 0.5}}, \"type\": \"bar\"}], \"barpolar\": [{\"marker\": {\"line\": {\"color\": \"#E5ECF6\", \"width\": 0.5}}, \"type\": \"barpolar\"}], \"carpet\": [{\"aaxis\": {\"endlinecolor\": \"#2a3f5f\", \"gridcolor\": \"white\", \"linecolor\": \"white\", \"minorgridcolor\": \"white\", \"startlinecolor\": \"#2a3f5f\"}, \"baxis\": {\"endlinecolor\": \"#2a3f5f\", \"gridcolor\": \"white\", \"linecolor\": \"white\", \"minorgridcolor\": \"white\", \"startlinecolor\": \"#2a3f5f\"}, \"type\": \"carpet\"}], \"choropleth\": [{\"colorbar\": {\"outlinewidth\": 0, \"ticks\": \"\"}, \"type\": \"choropleth\"}], \"contour\": [{\"colorbar\": {\"outlinewidth\": 0, \"ticks\": \"\"}, \"colorscale\": [[0.0, \"#0d0887\"], [0.1111111111111111, \"#46039f\"], [0.2222222222222222, \"#7201a8\"], [0.3333333333333333, \"#9c179e\"], [0.4444444444444444, \"#bd3786\"], [0.5555555555555556, \"#d8576b\"], [0.6666666666666666, \"#ed7953\"], [0.7777777777777778, \"#fb9f3a\"], [0.8888888888888888, \"#fdca26\"], [1.0, \"#f0f921\"]], \"type\": \"contour\"}], \"contourcarpet\": [{\"colorbar\": {\"outlinewidth\": 0, \"ticks\": \"\"}, \"type\": \"contourcarpet\"}], \"heatmap\": [{\"colorbar\": {\"outlinewidth\": 0, \"ticks\": \"\"}, \"colorscale\": [[0.0, \"#0d0887\"], [0.1111111111111111, \"#46039f\"], [0.2222222222222222, \"#7201a8\"], [0.3333333333333333, \"#9c179e\"], [0.4444444444444444, \"#bd3786\"], [0.5555555555555556, \"#d8576b\"], [0.6666666666666666, \"#ed7953\"], [0.7777777777777778, \"#fb9f3a\"], [0.8888888888888888, \"#fdca26\"], [1.0, \"#f0f921\"]], \"type\": \"heatmap\"}], \"heatmapgl\": [{\"colorbar\": {\"outlinewidth\": 0, \"ticks\": \"\"}, \"colorscale\": [[0.0, \"#0d0887\"], [0.1111111111111111, \"#46039f\"], [0.2222222222222222, \"#7201a8\"], [0.3333333333333333, \"#9c179e\"], [0.4444444444444444, \"#bd3786\"], [0.5555555555555556, \"#d8576b\"], [0.6666666666666666, \"#ed7953\"], [0.7777777777777778, \"#fb9f3a\"], [0.8888888888888888, \"#fdca26\"], [1.0, \"#f0f921\"]], \"type\": \"heatmapgl\"}], \"histogram\": [{\"marker\": {\"colorbar\": {\"outlinewidth\": 0, \"ticks\": \"\"}}, \"type\": \"histogram\"}], \"histogram2d\": [{\"colorbar\": {\"outlinewidth\": 0, \"ticks\": \"\"}, \"colorscale\": [[0.0, \"#0d0887\"], [0.1111111111111111, \"#46039f\"], [0.2222222222222222, \"#7201a8\"], [0.3333333333333333, \"#9c179e\"], [0.4444444444444444, \"#bd3786\"], [0.5555555555555556, \"#d8576b\"], [0.6666666666666666, \"#ed7953\"], [0.7777777777777778, \"#fb9f3a\"], [0.8888888888888888, \"#fdca26\"], [1.0, \"#f0f921\"]], \"type\": \"histogram2d\"}], \"histogram2dcontour\": [{\"colorbar\": {\"outlinewidth\": 0, \"ticks\": \"\"}, \"colorscale\": [[0.0, \"#0d0887\"], [0.1111111111111111, \"#46039f\"], [0.2222222222222222, \"#7201a8\"], [0.3333333333333333, \"#9c179e\"], [0.4444444444444444, \"#bd3786\"], [0.5555555555555556, \"#d8576b\"], [0.6666666666666666, \"#ed7953\"], [0.7777777777777778, \"#fb9f3a\"], [0.8888888888888888, \"#fdca26\"], [1.0, \"#f0f921\"]], \"type\": \"histogram2dcontour\"}], \"mesh3d\": [{\"colorbar\": {\"outlinewidth\": 0, \"ticks\": \"\"}, \"type\": \"mesh3d\"}], \"parcoords\": [{\"line\": {\"colorbar\": {\"outlinewidth\": 0, \"ticks\": \"\"}}, \"type\": \"parcoords\"}], \"pie\": [{\"automargin\": true, \"type\": \"pie\"}], \"scatter\": [{\"marker\": {\"colorbar\": {\"outlinewidth\": 0, \"ticks\": \"\"}}, \"type\": \"scatter\"}], \"scatter3d\": [{\"line\": {\"colorbar\": {\"outlinewidth\": 0, \"ticks\": \"\"}}, \"marker\": {\"colorbar\": {\"outlinewidth\": 0, \"ticks\": \"\"}}, \"type\": \"scatter3d\"}], \"scattercarpet\": [{\"marker\": {\"colorbar\": {\"outlinewidth\": 0, \"ticks\": \"\"}}, \"type\": \"scattercarpet\"}], \"scattergeo\": [{\"marker\": {\"colorbar\": {\"outlinewidth\": 0, \"ticks\": \"\"}}, \"type\": \"scattergeo\"}], \"scattergl\": [{\"marker\": {\"colorbar\": {\"outlinewidth\": 0, \"ticks\": \"\"}}, \"type\": \"scattergl\"}], \"scattermapbox\": [{\"marker\": {\"colorbar\": {\"outlinewidth\": 0, \"ticks\": \"\"}}, \"type\": \"scattermapbox\"}], \"scatterpolar\": [{\"marker\": {\"colorbar\": {\"outlinewidth\": 0, \"ticks\": \"\"}}, \"type\": \"scatterpolar\"}], \"scatterpolargl\": [{\"marker\": {\"colorbar\": {\"outlinewidth\": 0, \"ticks\": \"\"}}, \"type\": \"scatterpolargl\"}], \"scatterternary\": [{\"marker\": {\"colorbar\": {\"outlinewidth\": 0, \"ticks\": \"\"}}, \"type\": \"scatterternary\"}], \"surface\": [{\"colorbar\": {\"outlinewidth\": 0, \"ticks\": \"\"}, \"colorscale\": [[0.0, \"#0d0887\"], [0.1111111111111111, \"#46039f\"], [0.2222222222222222, \"#7201a8\"], [0.3333333333333333, \"#9c179e\"], [0.4444444444444444, \"#bd3786\"], [0.5555555555555556, \"#d8576b\"], [0.6666666666666666, \"#ed7953\"], [0.7777777777777778, \"#fb9f3a\"], [0.8888888888888888, \"#fdca26\"], [1.0, \"#f0f921\"]], \"type\": \"surface\"}], \"table\": [{\"cells\": {\"fill\": {\"color\": \"#EBF0F8\"}, \"line\": {\"color\": \"white\"}}, \"header\": {\"fill\": {\"color\": \"#C8D4E3\"}, \"line\": {\"color\": \"white\"}}, \"type\": \"table\"}]}, \"layout\": {\"annotationdefaults\": {\"arrowcolor\": \"#2a3f5f\", \"arrowhead\": 0, \"arrowwidth\": 1}, \"coloraxis\": {\"colorbar\": {\"outlinewidth\": 0, \"ticks\": \"\"}}, \"colorscale\": {\"diverging\": [[0, \"#8e0152\"], [0.1, \"#c51b7d\"], [0.2, \"#de77ae\"], [0.3, \"#f1b6da\"], [0.4, \"#fde0ef\"], [0.5, \"#f7f7f7\"], [0.6, \"#e6f5d0\"], [0.7, \"#b8e186\"], [0.8, \"#7fbc41\"], [0.9, \"#4d9221\"], [1, \"#276419\"]], \"sequential\": [[0.0, \"#0d0887\"], [0.1111111111111111, \"#46039f\"], [0.2222222222222222, \"#7201a8\"], [0.3333333333333333, \"#9c179e\"], [0.4444444444444444, \"#bd3786\"], [0.5555555555555556, \"#d8576b\"], [0.6666666666666666, \"#ed7953\"], [0.7777777777777778, \"#fb9f3a\"], [0.8888888888888888, \"#fdca26\"], [1.0, \"#f0f921\"]], \"sequentialminus\": [[0.0, \"#0d0887\"], [0.1111111111111111, \"#46039f\"], [0.2222222222222222, \"#7201a8\"], [0.3333333333333333, \"#9c179e\"], [0.4444444444444444, \"#bd3786\"], [0.5555555555555556, \"#d8576b\"], [0.6666666666666666, \"#ed7953\"], [0.7777777777777778, \"#fb9f3a\"], [0.8888888888888888, \"#fdca26\"], [1.0, \"#f0f921\"]]}, \"colorway\": [\"#636efa\", \"#EF553B\", \"#00cc96\", \"#ab63fa\", \"#FFA15A\", \"#19d3f3\", \"#FF6692\", \"#B6E880\", \"#FF97FF\", \"#FECB52\"], \"font\": {\"color\": \"#2a3f5f\"}, \"geo\": {\"bgcolor\": \"white\", \"lakecolor\": \"white\", \"landcolor\": \"#E5ECF6\", \"showlakes\": true, \"showland\": true, \"subunitcolor\": \"white\"}, \"hoverlabel\": {\"align\": \"left\"}, \"hovermode\": \"closest\", \"mapbox\": {\"style\": \"light\"}, \"paper_bgcolor\": \"white\", \"plot_bgcolor\": \"#E5ECF6\", \"polar\": {\"angularaxis\": {\"gridcolor\": \"white\", \"linecolor\": \"white\", \"ticks\": \"\"}, \"bgcolor\": \"#E5ECF6\", \"radialaxis\": {\"gridcolor\": \"white\", \"linecolor\": \"white\", \"ticks\": \"\"}}, \"scene\": {\"xaxis\": {\"backgroundcolor\": \"#E5ECF6\", \"gridcolor\": \"white\", \"gridwidth\": 2, \"linecolor\": \"white\", \"showbackground\": true, \"ticks\": \"\", \"zerolinecolor\": \"white\"}, \"yaxis\": {\"backgroundcolor\": \"#E5ECF6\", \"gridcolor\": \"white\", \"gridwidth\": 2, \"linecolor\": \"white\", \"showbackground\": true, \"ticks\": \"\", \"zerolinecolor\": \"white\"}, \"zaxis\": {\"backgroundcolor\": \"#E5ECF6\", \"gridcolor\": \"white\", \"gridwidth\": 2, \"linecolor\": \"white\", \"showbackground\": true, \"ticks\": \"\", \"zerolinecolor\": \"white\"}}, \"shapedefaults\": {\"line\": {\"color\": \"#2a3f5f\"}}, \"ternary\": {\"aaxis\": {\"gridcolor\": \"white\", \"linecolor\": \"white\", \"ticks\": \"\"}, \"baxis\": {\"gridcolor\": \"white\", \"linecolor\": \"white\", \"ticks\": \"\"}, \"bgcolor\": \"#E5ECF6\", \"caxis\": {\"gridcolor\": \"white\", \"linecolor\": \"white\", \"ticks\": \"\"}}, \"title\": {\"x\": 0.05}, \"xaxis\": {\"automargin\": true, \"gridcolor\": \"white\", \"linecolor\": \"white\", \"ticks\": \"\", \"title\": {\"standoff\": 15}, \"zerolinecolor\": \"white\", \"zerolinewidth\": 2}, \"yaxis\": {\"automargin\": true, \"gridcolor\": \"white\", \"linecolor\": \"white\", \"ticks\": \"\", \"title\": {\"standoff\": 15}, \"zerolinecolor\": \"white\", \"zerolinewidth\": 2}}}, \"title\": {\"text\": \"Insurance Performance\"}, \"xaxis\": {\"anchor\": \"y\", \"domain\": [0.0, 1.0], \"title\": {\"text\": \"timestep\"}}, \"yaxis\": {\"anchor\": \"x\", \"domain\": [0.0, 1.0], \"title\": {\"text\": \"value\"}}},                        {\"responsive\": true}                    ).then(function(){\n",
       "                            \n",
       "var gd = document.getElementById('cfefbc15-8e52-4c29-b519-f13d4d790b2f');\n",
       "var x = new MutationObserver(function (mutations, observer) {{\n",
       "        var display = window.getComputedStyle(gd).display;\n",
       "        if (!display || display === 'none') {{\n",
       "            console.log([gd, 'removed!']);\n",
       "            Plotly.purge(gd);\n",
       "            observer.disconnect();\n",
       "        }}\n",
       "}});\n",
       "\n",
       "// Listen for the removal of the full notebook cells\n",
       "var notebookContainer = gd.closest('#notebook-container');\n",
       "if (notebookContainer) {{\n",
       "    x.observe(notebookContainer, {childList: true});\n",
       "}}\n",
       "\n",
       "// Listen for the clearing of the current output cell\n",
       "var outputEl = gd.closest('.output');\n",
       "if (outputEl) {{\n",
       "    x.observe(outputEl, {childList: true});\n",
       "}}\n",
       "\n",
       "                        })                };                });            </script>        </div>"
      ]
     },
     "metadata": {},
     "output_type": "display_data"
    }
   ],
   "source": [
    "plot = px.line(df2,x='timestep', y=['risk_pool','minted_nfts','size_of_assured_sum'],title='Insurance Performance')\n",
    "plot"
   ]
  },
  {
   "cell_type": "code",
   "execution_count": null,
   "id": "2f8787b3",
   "metadata": {},
   "outputs": [],
   "source": []
  }
 ],
 "metadata": {
  "kernelspec": {
   "display_name": "Python 3",
   "language": "python",
   "name": "python3"
  },
  "language_info": {
   "codemirror_mode": {
    "name": "ipython",
    "version": 3
   },
   "file_extension": ".py",
   "mimetype": "text/x-python",
   "name": "python",
   "nbconvert_exporter": "python",
   "pygments_lexer": "ipython3",
   "version": "3.8.13"
  }
 },
 "nbformat": 4,
 "nbformat_minor": 5
}
